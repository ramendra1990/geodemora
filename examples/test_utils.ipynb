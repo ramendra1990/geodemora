{
 "cells": [
  {
   "cell_type": "code",
   "execution_count": 1,
   "id": "04b01a4b",
   "metadata": {},
   "outputs": [],
   "source": [
    "from geodemora import random_string"
   ]
  },
  {
   "cell_type": "code",
   "execution_count": 2,
   "id": "f6cfbf44",
   "metadata": {},
   "outputs": [
    {
     "data": {
      "text/plain": [
       "'axo'"
      ]
     },
     "execution_count": 2,
     "metadata": {},
     "output_type": "execute_result"
    }
   ],
   "source": [
    "random_string()"
   ]
  },
  {
   "cell_type": "code",
   "execution_count": 3,
   "id": "564d307f",
   "metadata": {},
   "outputs": [
    {
     "data": {
      "text/plain": [
       "'zla'"
      ]
     },
     "execution_count": 3,
     "metadata": {},
     "output_type": "execute_result"
    }
   ],
   "source": [
    "random_string()"
   ]
  },
  {
   "cell_type": "code",
   "execution_count": 11,
   "id": "99ca8bc7",
   "metadata": {},
   "outputs": [
    {
     "data": {
      "text/plain": [
       "'zbyygc'"
      ]
     },
     "execution_count": 11,
     "metadata": {},
     "output_type": "execute_result"
    }
   ],
   "source": [
    "random_string(string_length=6, use_seed=True)"
   ]
  },
  {
   "cell_type": "code",
   "execution_count": null,
   "id": "3b3d9ee6",
   "metadata": {},
   "outputs": [],
   "source": []
  }
 ],
 "metadata": {
  "kernelspec": {
   "display_name": "Python 3 (ipykernel)",
   "language": "python",
   "name": "python3"
  },
  "language_info": {
   "codemirror_mode": {
    "name": "ipython",
    "version": 3
   },
   "file_extension": ".py",
   "mimetype": "text/x-python",
   "name": "python",
   "nbconvert_exporter": "python",
   "pygments_lexer": "ipython3",
   "version": "3.8.13"
  }
 },
 "nbformat": 4,
 "nbformat_minor": 5
}
