{
 "cells": [
  {
   "cell_type": "code",
   "execution_count": 1,
   "id": "b91268ab",
   "metadata": {},
   "outputs": [],
   "source": [
    "import geodemora"
   ]
  },
  {
   "cell_type": "code",
   "execution_count": 2,
   "id": "4bd4ab0e",
   "metadata": {},
   "outputs": [
    {
     "data": {
      "application/vnd.jupyter.widget-view+json": {
       "model_id": "691df510634b476b81b8d6e76153b409",
       "version_major": 2,
       "version_minor": 0
      },
      "text/plain": [
       "Map(center=[40, -100], controls=(ZoomControl(options=['position', 'zoom_in_text', 'zoom_in_title', 'zoom_out_t…"
      ]
     },
     "metadata": {},
     "output_type": "display_data"
    }
   ],
   "source": [
    "m = geodemora.Map()\n",
    "m"
   ]
  },
  {
   "cell_type": "code",
   "execution_count": 3,
   "id": "db6be452",
   "metadata": {},
   "outputs": [],
   "source": [
    "in_geojson = \"./data/countries.json\""
   ]
  },
  {
   "cell_type": "code",
   "execution_count": 4,
   "id": "39ad5dab",
   "metadata": {},
   "outputs": [],
   "source": [
    "style = {\n",
    "    \"stroke\": True,\n",
    "    \"color\": \"#ff0000\",\n",
    "    \"weight\": 2,\n",
    "    \"opacity\": 1,\n",
    "    \"fill\": True,\n",
    "    \"fillColor\": \"#0000ff\",\n",
    "    \"fillOpacity\": 0.4,\n",
    "}"
   ]
  },
  {
   "cell_type": "code",
   "execution_count": 5,
   "id": "f64a316b",
   "metadata": {},
   "outputs": [
    {
     "data": {
      "text/plain": [
       "{'stroke': True,\n",
       " 'color': '#ff0000',\n",
       " 'weight': 2,\n",
       " 'opacity': 1,\n",
       " 'fill': True,\n",
       " 'fillColor': '#0000ff',\n",
       " 'fillOpacity': 0.4}"
      ]
     },
     "execution_count": 5,
     "metadata": {},
     "output_type": "execute_result"
    }
   ],
   "source": [
    "style"
   ]
  },
  {
   "cell_type": "code",
   "execution_count": 6,
   "id": "45805ebd",
   "metadata": {},
   "outputs": [],
   "source": [
    "m.add_geojson(in_geojson, style = style, layer_name=\"GeoJSON\")"
   ]
  },
  {
   "cell_type": "code",
   "execution_count": null,
   "id": "a8136e77",
   "metadata": {},
   "outputs": [],
   "source": []
  }
 ],
 "metadata": {
  "kernelspec": {
   "display_name": "Python 3 (ipykernel)",
   "language": "python",
   "name": "python3"
  },
  "language_info": {
   "codemirror_mode": {
    "name": "ipython",
    "version": 3
   },
   "file_extension": ".py",
   "mimetype": "text/x-python",
   "name": "python",
   "nbconvert_exporter": "python",
   "pygments_lexer": "ipython3",
   "version": "3.8.13"
  }
 },
 "nbformat": 4,
 "nbformat_minor": 5
}
